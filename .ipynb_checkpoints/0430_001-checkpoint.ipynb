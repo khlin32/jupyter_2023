{
 "cells": [
  {
   "cell_type": "code",
   "execution_count": null,
   "id": "976b8599",
   "metadata": {},
   "outputs": [],
   "source": [
    "import pandas as pd\n",
    "myseries = pd.Series([10,20,30])\n",
    "print(myseries)"
   ]
  }
 ],
 "metadata": {
  "kernelspec": {
   "display_name": "Python 3 (ipykernel)",
   "language": "python",
   "name": "python3"
  }
 },
 "nbformat": 4,
 "nbformat_minor": 5
}

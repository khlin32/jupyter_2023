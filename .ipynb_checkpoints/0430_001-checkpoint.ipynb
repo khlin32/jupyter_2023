{
 "cells": [
  {
   "cell_type": "code",
   "execution_count": 2,
   "id": "89455186",
   "metadata": {},
   "outputs": [
    {
     "name": "stdout",
     "output_type": "stream",
     "text": [
      "a    10\n",
      "b    20\n",
      "c    30\n",
      "dtype: int64\n"
     ]
    }
   ],
   "source": [
    "import pandas as pd\n",
    "myseries = pd.Series(\n",
    "    [10,20,30],\n",
    "    index = [\"a\",\"b\",\"c\"]\n",
    ")\n",
    "print(myseries)"
   ]
  },
  {
   "cell_type": "code",
   "execution_count": 4,
   "id": "00267654",
   "metadata": {},
   "outputs": [
    {
     "name": "stdout",
     "output_type": "stream",
     "text": [
      "John\n"
     ]
    }
   ],
   "source": [
    "myseries2 = pd.Series(\n",
    "    [\"Jane\",\"John\",\"Emily\",\"Matt\"]\n",
    ")\n",
    "print(myseries2[1])"
   ]
  },
  {
   "cell_type": "code",
   "execution_count": 7,
   "id": "3413fc0c",
   "metadata": {},
   "outputs": [
    {
     "name": "stdout",
     "output_type": "stream",
     "text": [
      "False\n"
     ]
    }
   ],
   "source": [
    "myseries3 = pd.Series([1,2,3,2])\n",
    "print(myseries3.is_unique)"
   ]
  },
  {
   "cell_type": "markdown",
   "id": "06cca0c3",
   "metadata": {},
   "source": [
    "## Testing for two-dimensional (DataFrame)"
   ]
  },
  {
   "cell_type": "code",
   "execution_count": 10,
   "id": "b6568846",
   "metadata": {},
   "outputs": [
    {
     "name": "stdout",
     "output_type": "stream",
     "text": [
      "(4, 2)\n"
     ]
    }
   ],
   "source": [
    "df = pd.DataFrame({\n",
    "    \"Name\":[\"Jane\",\"John\",\"Matt\",\"Ashley\"],\n",
    "    \"Age\":[24,21,26,32]\n",
    "})\n",
    "print(df.shape)"
   ]
  },
  {
   "cell_type": "markdown",
   "id": "29bbacf1",
   "metadata": {},
   "source": [
    "### Read CSV file"
   ]
  },
  {
   "cell_type": "code",
   "execution_count": 12,
   "id": "2530fab8",
   "metadata": {},
   "outputs": [
    {
     "name": "stdout",
     "output_type": "stream",
     "text": [
      "   product_code product_group  stock_qty    cost    price  last_week_sales   \n",
      "0          4187           PG2        498  420.76   569.91               13  \\\n",
      "1          4195           PG2        473  545.64   712.41               16   \n",
      "2          4204           PG2        968  640.42   854.91               22   \n",
      "3          4219           PG2        241  869.69  1034.55               14   \n",
      "4          4718           PG2       1401   12.54    26.59               50   \n",
      "\n",
      "   last_month_sales  \n",
      "0                58  \n",
      "1                58  \n",
      "2                88  \n",
      "3                45  \n",
      "4               285  \n",
      "(1000, 7)\n"
     ]
    }
   ],
   "source": [
    "sales = pd.read_csv(\"sales.csv\")\n",
    "print(sales.head())\n",
    "print(sales.shape)"
   ]
  },
  {
   "cell_type": "markdown",
   "id": "c68d7d23",
   "metadata": {},
   "source": [
    "### usecols to only read certain columns\n",
    "### nrows to limit the rows"
   ]
  },
  {
   "cell_type": "code",
   "execution_count": 16,
   "id": "0242651f",
   "metadata": {},
   "outputs": [
    {
     "name": "stdout",
     "output_type": "stream",
     "text": [
      "(200, 3)\n",
      "   product_code    cost    price\n",
      "0          4187  420.76   569.91\n",
      "1          4195  545.64   712.41\n",
      "2          4204  640.42   854.91\n",
      "3          4219  869.69  1034.55\n",
      "4          4718   12.54    26.59\n"
     ]
    }
   ],
   "source": [
    "sales1 = pd.read_csv(\"sales.csv\", usecols=[\"product_code\",\"cost\",\"price\"], nrows=200)\n",
    "print(sales1.shape)\n",
    "print(sales1.head())"
   ]
  },
  {
   "cell_type": "markdown",
   "id": "079103b8",
   "metadata": {},
   "source": [
    "## Python dictionary\n",
    "One of the most commonly used methods to do so is with a Python dictionary. We just pass a dictionary to the DataFrame constructor."
   ]
  },
  {
   "cell_type": "code",
   "execution_count": 17,
   "id": "9dadb55d",
   "metadata": {},
   "outputs": [
    {
     "name": "stdout",
     "output_type": "stream",
     "text": [
      "    Names  Ages  Score\n",
      "0    Jane    26   91.2\n",
      "1    John    24   94.1\n",
      "2    Matt    28   89.5\n",
      "3  Ashley    25   92.3\n"
     ]
    }
   ],
   "source": [
    "df = pd.DataFrame({\n",
    "  \"Names\": [\"Jane\", \"John\", \"Matt\", \"Ashley\"],\n",
    "  \"Ages\": [26, 24, 28, 25],\n",
    "  \"Score\": [91.2, 94.1, 89.5, 92.3]\n",
    "})\n",
    "\n",
    "print(df)"
   ]
  },
  {
   "cell_type": "markdown",
   "id": "6fdc95d6",
   "metadata": {},
   "source": [
    "## Two-dimensional array\n",
    "DataFrame is a two-dimensional data structure that consists of rows and columns. Thus, we can convert a two-dimensional array into a DataFrame. For instance, the DataFrame constructor accepts NumPy arrays.\n",
    "\n",
    "The code below creates a DataFrame using a NumPy array. By default, column names are assigned integer index, but we can change it using the columns parameter."
   ]
  },
  {
   "cell_type": "code",
   "execution_count": 23,
   "id": "7b6ce255",
   "metadata": {},
   "outputs": [
    {
     "name": "stdout",
     "output_type": "stream",
     "text": [
      "   A  B  C  D  E\n",
      "0  5  5  3  3  6\n",
      "1  9  1  8  8  9\n",
      "2  7  2  8  6  4\n",
      "    X   Y   Z\n",
      "0 -10  -5  -5\n",
      "1  -7  -7   6\n",
      "2   7   9  -3\n",
      "3   9   8   6\n",
      "4   9   0 -10\n",
      "5   0   7   5\n",
      "6   2  -1 -11\n",
      "7   4  -4  -6\n",
      "8 -10 -11   1\n",
      "9  -5  -4  10\n"
     ]
    }
   ],
   "source": [
    "import numpy as np\n",
    "import pandas as pd\n",
    "\n",
    "arr = np.random.randint(1, 10, size=(3,5))\n",
    "df = pd.DataFrame(arr, columns=[\"A\",\"B\",\"C\",\"D\",\"E\"])\n",
    "print(df)\n",
    "\n",
    "arr2 = np.random.randint(-11,11,size=(10,3))\n",
    "df2 = pd.DataFrame(arr2, columns=[\"X\",\"Y\",\"Z\"])\n",
    "print(df2)\n"
   ]
  },
  {
   "cell_type": "markdown",
   "id": "7c33b9fd",
   "metadata": {},
   "source": [
    "# Size of a data frame\n",
    "## The size, shape, and len menthods\n",
    "We should always check the data’s size before analyzing it. The size of a DataFrame can be expressed in terms of the number of rows and columns.\n",
    "\n",
    "The **shape** method returns a tuple that contains the number of rows and columns. \n",
    "The **size** method contains a number that shows the number of rows multiplied by the number of columns. Thus, it returns the total number of cells in a DataFrame. \n",
    "The built-in Python function, **len** gives us the number of rows in a DataFrame. Let’s check the size of the sales using these methods."
   ]
  },
  {
   "cell_type": "code",
   "execution_count": 25,
   "id": "e27e27de",
   "metadata": {},
   "outputs": [
    {
     "name": "stdout",
     "output_type": "stream",
     "text": [
      "(1000, 7)\n",
      "7000\n",
      "1000\n"
     ]
    }
   ],
   "source": [
    "import pandas as pd\n",
    "sales = pd.read_csv(\"sales.csv\")\n",
    "print(sales.shape)\n",
    "print(sales.size)\n",
    "print(len(sales))\n",
    "\n",
    "print(sales.info())"
   ]
  },
  {
   "cell_type": "code",
   "execution_count": null,
   "id": "ceec6366",
   "metadata": {},
   "outputs": [],
   "source": []
  }
 ],
 "metadata": {
  "kernelspec": {
   "display_name": "Python 3 (ipykernel)",
   "language": "python",
   "name": "python3"
  },
  "language_info": {
   "codemirror_mode": {
    "name": "ipython",
    "version": 3
   },
   "file_extension": ".py",
   "mimetype": "text/x-python",
   "name": "python",
   "nbconvert_exporter": "python",
   "pygments_lexer": "ipython3",
   "version": "3.10.10"
  }
 },
 "nbformat": 4,
 "nbformat_minor": 5
}
